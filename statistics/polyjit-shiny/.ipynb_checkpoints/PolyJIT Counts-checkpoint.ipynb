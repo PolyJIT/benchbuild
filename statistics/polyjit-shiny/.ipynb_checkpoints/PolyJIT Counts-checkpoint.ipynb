{
 "cells": [
  {
   "cell_type": "code",
   "execution_count": 4,
   "metadata": {
    "collapsed": false
   },
   "outputs": [],
   "source": [
    "source(\"./polyjit.R\")\n",
    "source(\"./shiny-data.R\")\n",
    "\n",
    "library(RPostgres)\n",
    "\n",
    "con <- dbConnect(RPostgres::Postgres(),\n",
    "                 dbname=\"pprof\",\n",
    "                 user=\"pprof\",\n",
    "                 host=\"debussy.fim.uni-passau.de\",\n",
    "                 port=32768,\n",
    "                 password=\"pprof\")"
   ]
  },
  {
   "cell_type": "code",
   "execution_count": 2,
   "metadata": {
    "collapsed": false
   },
   "outputs": [
    {
     "data": {
      "text/html": [
       "TRUE"
      ],
      "text/latex": [
       "TRUE"
      ],
      "text/markdown": [
       "TRUE"
      ],
      "text/plain": [
       "[1] TRUE"
      ]
     },
     "execution_count": 2,
     "metadata": {},
     "output_type": "execute_result"
    }
   ],
   "source": [
    "q <- paste(\"REFRESH MATERIALIZED VIEW run_log WITH DATA;\")\n",
    "qr <- dbSendQuery(con, q)\n",
    "res <- dbFetch(qr)\n",
    "dbClearResult(qr)"
   ]
  },
  {
   "cell_type": "code",
   "execution_count": 9,
   "metadata": {
    "collapsed": false
   },
   "outputs": [
    {
     "data": {
      "text/html": [
       "<table>\n",
       "<thead><tr><th></th><th scope=col>count</th><th scope=col>experiment_name</th></tr></thead>\n",
       "<tbody>\n",
       "\t<tr><th scope=row>1</th><td>192</td><td>papi</td></tr>\n",
       "\t<tr><th scope=row>2</th><td>193</td><td>papi-std</td></tr>\n",
       "\t<tr><th scope=row>3</th><td>196</td><td>polyjit</td></tr>\n",
       "\t<tr><th scope=row>4</th><td>195</td><td>polyjit</td></tr>\n",
       "\t<tr><th scope=row>5</th><td>1</td><td>polyjit</td></tr>\n",
       "\t<tr><th scope=row>6</th><td>196</td><td>polyjit</td></tr>\n",
       "</tbody>\n",
       "</table>\n"
      ],
      "text/latex": [
       "\\begin{tabular}{r|ll}\n",
       "  & count & experiment_name\\\\\n",
       "\\hline\n",
       "\t1 & 192 & papi\\\\\n",
       "\t2 & 193 & papi-std\\\\\n",
       "\t3 & 196 & polyjit\\\\\n",
       "\t4 & 195 & polyjit\\\\\n",
       "\t5 & 1 & polyjit\\\\\n",
       "\t6 & 196 & polyjit\\\\\n",
       "\\end{tabular}\n"
      ],
      "text/plain": [
       "  count experiment_name\n",
       "1   192            papi\n",
       "2   193        papi-std\n",
       "3   196         polyjit\n",
       "4   195         polyjit\n",
       "5     1         polyjit\n",
       "6   196         polyjit"
      ]
     },
     "execution_count": 9,
     "metadata": {},
     "output_type": "execute_result"
    }
   ],
   "source": [
    "\n",
    "qr <- dbSendQuery(con, \"SELECT COUNT(DISTINCT(project_name)), experiment_name FROM run_log GROUP BY experiment_name, experiment_group;\")\n",
    "res <- dbFetch(qr)\n",
    "head(res)"
   ]
  },
  {
   "cell_type": "code",
   "execution_count": 8,
   "metadata": {
    "collapsed": false
   },
   "outputs": [
    {
     "data": {
      "text/html": [
       "<table>\n",
       "<thead><tr><th></th><th scope=col>count</th><th scope=col>experiment_name</th></tr></thead>\n",
       "<tbody>\n",
       "\t<tr><th scope=row>1</th><td>4</td><td>papi</td></tr>\n",
       "\t<tr><th scope=row>2</th><td>4</td><td>papi-std</td></tr>\n",
       "\t<tr><th scope=row>3</th><td>14</td><td>polyjit</td></tr>\n",
       "\t<tr><th scope=row>4</th><td>14</td><td>polyjit</td></tr>\n",
       "\t<tr><th scope=row>5</th><td>22</td><td>polyjit</td></tr>\n",
       "\t<tr><th scope=row>6</th><td>1</td><td>polyjit</td></tr>\n",
       "</tbody>\n",
       "</table>\n"
      ],
      "text/latex": [
       "\\begin{tabular}{r|ll}\n",
       "  & count & experiment_name\\\\\n",
       "\\hline\n",
       "\t1 & 4 & papi\\\\\n",
       "\t2 & 4 & papi-std\\\\\n",
       "\t3 & 14 & polyjit\\\\\n",
       "\t4 & 14 & polyjit\\\\\n",
       "\t5 & 22 & polyjit\\\\\n",
       "\t6 & 1 & polyjit\\\\\n",
       "\\end{tabular}\n"
      ],
      "text/plain": [
       "  count experiment_name\n",
       "1     4            papi\n",
       "2     4        papi-std\n",
       "3    14         polyjit\n",
       "4    14         polyjit\n",
       "5    22         polyjit\n",
       "6     1         polyjit"
      ]
     },
     "execution_count": 8,
     "metadata": {},
     "output_type": "execute_result"
    }
   ],
   "source": [
    "\n",
    "qr <- dbSendQuery(con, \"SELECT COUNT(DISTINCT(project_name)), experiment_name FROM run_log WHERE status != '0' GROUP BY experiment_name, experiment_group;\")\n",
    "res <- dbFetch(qr)\n",
    "head(res)"
   ]
  },
  {
   "cell_type": "code",
   "execution_count": 7,
   "metadata": {
    "collapsed": false
   },
   "outputs": [
    {
     "data": {
      "text/html": [
       "<table>\n",
       "<thead><tr><th></th><th scope=col>count</th></tr></thead>\n",
       "<tbody>\n",
       "\t<tr><th scope=row>1</th><td>688</td></tr>\n",
       "</tbody>\n",
       "</table>\n"
      ],
      "text/latex": [
       "\\begin{tabular}{r|l}\n",
       "  & count\\\\\n",
       "\\hline\n",
       "\t1 & 688\\\\\n",
       "\\end{tabular}\n"
      ],
      "text/plain": [
       "  count\n",
       "1   688"
      ]
     },
     "execution_count": 7,
     "metadata": {},
     "output_type": "execute_result"
    }
   ],
   "source": [
    "qr <- dbSendQuery(con, \"SELECT COUNT(name) FROM project;\")\n",
    "res <- dbFetch(qr)\n",
    "head(res)"
   ]
  },
  {
   "cell_type": "code",
   "execution_count": 39,
   "metadata": {
    "collapsed": false
   },
   "outputs": [
    {
     "data": {
      "text/html": [
       "<table>\n",
       "<thead><tr><th></th><th scope=col>count</th></tr></thead>\n",
       "<tbody>\n",
       "\t<tr><th scope=row>1</th><td>24</td></tr>\n",
       "</tbody>\n",
       "</table>\n"
      ],
      "text/latex": [
       "\\begin{tabular}{r|l}\n",
       "  & count\\\\\n",
       "\\hline\n",
       "\t1 & 24\\\\\n",
       "\\end{tabular}\n"
      ],
      "text/plain": [
       "  count\n",
       "1    24"
      ]
     },
     "execution_count": 39,
     "metadata": {},
     "output_type": "execute_result"
    }
   ],
   "source": [
    "qr <- dbSendQuery(con, \"SELECT COUNT(DISTINCT project_name) from run_compilestats as r WHERE component like '%%jit%%' and name like '%jitable%' and experiment_group = '';\")\n",
    "res <- dbFetch(qr)\n",
    "res"
   ]
  },
  {
   "cell_type": "code",
   "execution_count": 41,
   "metadata": {
    "collapsed": false
   },
   "outputs": [
    {
     "data": {
      "text/html": [
       "<table>\n",
       "<thead><tr><th></th><th scope=col>count</th></tr></thead>\n",
       "<tbody>\n",
       "\t<tr><th scope=row>1</th><td>32</td></tr>\n",
       "</tbody>\n",
       "</table>\n"
      ],
      "text/latex": [
       "\\begin{tabular}{r|l}\n",
       "  & count\\\\\n",
       "\\hline\n",
       "\t1 & 32\\\\\n",
       "\\end{tabular}\n"
      ],
      "text/plain": [
       "  count\n",
       "1    32"
      ]
     },
     "execution_count": 41,
     "metadata": {},
     "output_type": "execute_result"
    }
   ],
   "source": [
    "qr <- dbSendQuery(con, \"SELECT COUNT(DISTINCT project_name) from run_likwid WHERE region like 'polyjit.params.select' and experiment_group = '33b26bb8-4881-46a0-bca5-60dfa46a311a';\")\n",
    "res <- dbFetch(qr)\n",
    "res"
   ]
  },
  {
   "cell_type": "code",
   "execution_count": 48,
   "metadata": {
    "collapsed": false
   },
   "outputs": [
    {
     "data": {
      "text/html": [
       "<table>\n",
       "<thead><tr><th></th><th scope=col>count</th></tr></thead>\n",
       "<tbody>\n",
       "\t<tr><th scope=row>1</th><td>32</td></tr>\n",
       "</tbody>\n",
       "</table>\n"
      ],
      "text/latex": [
       "\\begin{tabular}{r|l}\n",
       "  & count\\\\\n",
       "\\hline\n",
       "\t1 & 32\\\\\n",
       "\\end{tabular}\n"
      ],
      "text/plain": [
       "  count\n",
       "1    32"
      ]
     },
     "execution_count": 48,
     "metadata": {},
     "output_type": "execute_result"
    }
   ],
   "source": [
    "qr <- dbSendQuery(con, \"SELECT COUNT(DISTINCT project_name) from run, likwid, log WHERE run.id = log.run_id and run.id = likwid.run_id and status = 0 and region like 'polyjit.params.select' and experiment_group = '33b26bb8-4881-46a0-bca5-60dfa46a311a';\")\n",
    "res <- dbFetch(qr)\n",
    "res"
   ]
  }
 ],
 "metadata": {
  "kernelspec": {
   "display_name": "R",
   "language": "R",
   "name": "ir"
  },
  "language_info": {
   "codemirror_mode": "r",
   "file_extension": ".r",
   "mimetype": "text/x-r-source",
   "name": "R",
   "pygments_lexer": "r",
   "version": "3.2.0"
  }
 },
 "nbformat": 4,
 "nbformat_minor": 0
}
